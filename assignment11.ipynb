{
 "cells": [
  {
   "cell_type": "code",
   "execution_count": null,
   "id": "3790c4f5-7013-4486-bf6c-2dc7d111a630",
   "metadata": {},
   "outputs": [],
   "source": [
    "#Question N01\n",
    "1-->fopen() function is used to open the file \n",
    "\n",
    "2-->r - open a file in read mode.\n",
    "w - opens or create a text file in write mode.\n",
    "a - opens a file in append mode.\n",
    "r+ - opens a file in both read and write mode.\n",
    "a+ - opens a file in both read and write mode.\n",
    "w+ - opens a file in both read and write mode.\n"
   ]
  },
  {
   "cell_type": "code",
   "execution_count": null,
   "id": "2b20e2b9-3d24-4880-9eaf-909a4c9ae854",
   "metadata": {},
   "outputs": [],
   "source": [
    "#Question N02\n",
    "The close() method closes an open file. You should always close your files,\n",
    "in some cases, due to buffering,\n",
    "changes made to a file may not show until you close the file.\n",
    "\n",
    "<---- it important to close a file--->?\n",
    "Closing a file after use is important because it frees up system resources that are being used by the file.\n",
    "When a file is open, the operating system allocates memory and other resources to the file,\n",
    "which can potentially\n",
    "impact the performance of the system \n",
    "if too many files are open at the same time."
   ]
  },
  {
   "cell_type": "code",
   "execution_count": 12,
   "id": "03635bd3-4a50-483a-bebc-c3930378e480",
   "metadata": {},
   "outputs": [
    {
     "name": "stdout",
     "output_type": "stream",
     "text": [
      "I want to become a Data Scientist\n"
     ]
    }
   ],
   "source": [
    "#Question N0 3\n",
    "f=open(\"myFile.txt\", 'w') \n",
    "f.write(\"I want to become a Data Scientist\")\n",
    "f.close()\n",
    "\n",
    "f=open(\"myFile.txt\",'r')\n",
    "print(f.read())\n",
    "f.close()"
   ]
  },
  {
   "cell_type": "code",
   "execution_count": null,
   "id": "1235863a-eb4d-4e4d-812f-8dc5498cf0a6",
   "metadata": {},
   "outputs": [],
   "source": [
    "#Question N0 4\n",
    "1-->Read ( ): Returns the read bytes in the form of a string.\n",
    "Reads n bytes; if n is not specified, then reads the entire file\n",
    "2-->readline():Readline ( ): Reads a line of the file and returns in the form of a string\n",
    "\n",
    "3-->readlines():\n",
    "    readlines() method will return all the lines in a file \n",
    "    in the format of a list where each element is a line in the file."
   ]
  },
  {
   "cell_type": "code",
   "execution_count": null,
   "id": "5ebcd224-30c6-44a5-bee5-695bd9ccb5f6",
   "metadata": {},
   "outputs": [],
   "source": [
    "#Question N05\n",
    "The with statement works with the open() function to open a file.\n",
    "Unlike open() where you have to close the file with the close() method, \n",
    "the with statement closes the file for you without you telling it to.\n",
    "This is because the with statement calls 2 built-in methods behind the scene – __enter()__ and __exit()__ ."
   ]
  },
  {
   "cell_type": "code",
   "execution_count": 13,
   "id": "aaadb3d8-a45b-4f90-991c-e1670832fd2a",
   "metadata": {},
   "outputs": [
    {
     "name": "stdin",
     "output_type": "stream",
     "text": [
      "Enter the name of the employee:  sallu\n",
      "Enter the name of the employee:  gallu\n",
      "Enter the name of the employee:  pallu\n"
     ]
    },
    {
     "name": "stdout",
     "output_type": "stream",
     "text": [
      "Data is written into the file.\n"
     ]
    }
   ],
   "source": [
    "#Question N0 6\n",
    "<----write---->\n",
    "file = open(\"Employees.txt\", \"w\")\n",
    "  \n",
    "for i in range(3):\n",
    "   name = input(\"Enter the name of the employee: \")\n",
    "   file.write(name)\n",
    "   file.write(\"\\n\")\n",
    "     \n",
    "file.close()\n",
    "  \n",
    "print(\"Data is written into the file.\")\n",
    "\n",
    "<-----writelines---->\n",
    "file1 = open(\"Employees.txt\", \"w\")\n",
    "lst = []\n",
    "for i in range(3):\n",
    "    name = input(\"Enter the name of the employee: \")\n",
    "    lst.append(name + '\\n')\n",
    "      \n",
    "file1.writelines(lst)\n",
    "file1.close()\n",
    "print(\"Data is written into the file.\") "
   ]
  }
 ],
 "metadata": {
  "kernelspec": {
   "display_name": "Python 3 (ipykernel)",
   "language": "python",
   "name": "python3"
  },
  "language_info": {
   "codemirror_mode": {
    "name": "ipython",
    "version": 3
   },
   "file_extension": ".py",
   "mimetype": "text/x-python",
   "name": "python",
   "nbconvert_exporter": "python",
   "pygments_lexer": "ipython3",
   "version": "3.10.8"
  }
 },
 "nbformat": 4,
 "nbformat_minor": 5
}
