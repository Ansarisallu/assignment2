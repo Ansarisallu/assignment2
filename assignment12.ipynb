{
 "cells": [
  {
   "cell_type": "code",
   "execution_count": null,
   "id": "aab26cc9-2a90-46df-a98d-8602a6f5920b",
   "metadata": {},
   "outputs": [],
   "source": [
    "#Question N0 1\n",
    "exception-->An exception is an event, which occurs during the execution of a program that disrupts the normal \n",
    "flow of the program's instructions\n",
    "\n",
    "different b/w error and exception\n",
    "Errors and Exceptions in Python.\n",
    "1->Errors are the problems in a program due to which the program will stop the execution\n",
    "2->exceptions are raised when some internal events occur which changes the normal flow of the program"
   ]
  },
  {
   "cell_type": "code",
   "execution_count": null,
   "id": "5202e0ce-f6cc-466c-83b8-d726556a680b",
   "metadata": {},
   "outputs": [],
   "source": [
    "#Question N0 2\n",
    "When an exception occurred, if you don't handle it, the program terminates abruptly\n",
    "and the code past the line that caused the exception will not get executed\n",
    "\n",
    "example-->marks = 10000\n",
    " \n",
    "\n",
    "a = marks / 0\n",
    "print(a)"
   ]
  },
  {
   "cell_type": "code",
   "execution_count": null,
   "id": "ad931d1a-b45e-4894-9283-1d9b0817a4db",
   "metadata": {},
   "outputs": [],
   "source": [
    "#question n03\n",
    "The try-catch-finally statements\n",
    "1->The try statement identifies a block of statements within which an exception might be thrown.\n",
    "2->The catch statement must be associated with a try statement and \n",
    "identifies a block of statements that can handle a particular type of exception.\n",
    "\n",
    "example \n",
    "try:\n",
    "    numerator = 10\n",
    "    denominator = 0\n",
    "\n",
    "    result = numerator/denominator\n",
    "\n",
    "    print(result)\n",
    "except:\n",
    "    print(\"Error: Denominator cannot be 0.\")\n"
   ]
  },
  {
   "cell_type": "code",
   "execution_count": null,
   "id": "475ae5be-d012-4b09-b2cc-28f125313e0a",
   "metadata": {},
   "outputs": [],
   "source": [
    "#Question N04\n",
    "try and else-->\n",
    "def divide(x, y):\n",
    "    try:\n",
    "       \n",
    "        result = x // y\n",
    "    except ZeroDivisionError:\n",
    "        print(\"Sorry ! You are dividing by zero \")\n",
    "    else:\n",
    "        print(\"Yeah ! Your answer is :\", result)\n",
    "   \n",
    "\n",
    "\n",
    "divide(3, 2)\n",
    "divide(3, 0)\n",
    "\n",
    "finally\n",
    "def divide(x, y):\n",
    "    try:\n",
    "        \n",
    "        result = x // y\n",
    "    except ZeroDivisionError:\n",
    "        print(\"Sorry ! You are dividing by zero \")\n",
    "    else:\n",
    "        print(\"Yeah ! Your answer is :\", result)\n",
    "    finally: \n",
    "        \n",
    "        print('This is always executed')  \n",
    "\n",
    "divide(3, 2)\n",
    "divide(3, 0)\n",
    "\n",
    "raise-->\n",
    "Raise an error and stop the program if x is lower than 0:\n",
    "\n",
    "x = -1\n",
    "\n",
    "if x < 0:\n",
    "  raise Exception(\"Sorry, no numbers below zero\")"
   ]
  },
  {
   "cell_type": "code",
   "execution_count": null,
   "id": "8447188d-434f-4965-9263-651f27af5232",
   "metadata": {},
   "outputs": [],
   "source": [
    "#Question N05\n",
    "\n",
    "Python is known for its readability and user-friendliness;\n",
    "using custom exceptions can help us improve this even more, especially when we are designing our package"
   ]
  },
  {
   "cell_type": "code",
   "execution_count": null,
   "id": "39e570b2-ec62-4f10-b95f-da27c6ecea6e",
   "metadata": {},
   "outputs": [],
   "source": [
    "#Question N06\n",
    "class InvalidAgeException(Exception):\n",
    "    \"Raised when the input value is less than 18\"\n",
    "    pass\n",
    "\n",
    "\n",
    "number = 18\n",
    "\n",
    "try:\n",
    "    input_num = int(input(\"Enter a number: \"))\n",
    "    if input_num < number:\n",
    "        raise InvalidAgeException\n",
    "    else:\n",
    "        print(\"Eligible to Vote\")\n",
    "        \n",
    "except InvalidAgeException:\n",
    "    print(\"Exception occurred: Invalid Age\")"
   ]
  }
 ],
 "metadata": {
  "kernelspec": {
   "display_name": "Python 3 (ipykernel)",
   "language": "python",
   "name": "python3"
  },
  "language_info": {
   "codemirror_mode": {
    "name": "ipython",
    "version": 3
   },
   "file_extension": ".py",
   "mimetype": "text/x-python",
   "name": "python",
   "nbconvert_exporter": "python",
   "pygments_lexer": "ipython3",
   "version": "3.10.8"
  }
 },
 "nbformat": 4,
 "nbformat_minor": 5
}
