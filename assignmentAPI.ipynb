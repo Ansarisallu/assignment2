{
 "cells": [
  {
   "cell_type": "code",
   "execution_count": null,
   "id": "ff8e76e3-0c45-4f99-b862-48c5a1fcdd00",
   "metadata": {},
   "outputs": [],
   "source": [
    "#Question N01\n",
    "1->APIs are mechanisms that enable two software components to communicate with \n",
    "each other using a set of definitions and protocols.\n",
    "For example, the weather bureau's software system contains daily weather data. \n",
    "The weather app on your phone “talks” to this system via APIs and shows you daily weather updates on your phone.\n",
    "\n",
    "2->The Google Maps API and Twitter API may be among the most widely used API"
   ]
  },
  {
   "cell_type": "code",
   "execution_count": null,
   "id": "de5684d7-0049-41ed-9eb6-8b88a1ddafb3",
   "metadata": {},
   "outputs": [],
   "source": [
    "#Question N02\n",
    "What is API and advantages and disadvantages?\n",
    "Image result for Give advantages and disadvantages of using API.\n",
    "API stands for 'application programming interface,' \n",
    "and the dictionary describes it as\n",
    "\"a set of functions and procedures allowing the creation of applications that access the\n",
    "features or data of an operating system, application, or other services.\"\n",
    "In more basic terms, API is a software intermediary that allows two"
   ]
  },
  {
   "cell_type": "code",
   "execution_count": null,
   "id": "2fb89f34-f673-4477-8af5-5ea6c326e067",
   "metadata": {},
   "outputs": [],
   "source": [
    "#question n03\n",
    "Web API is an extensible framework for building HTTP \n",
    "based services that can be accessed in different applications on different platforms such as \n",
    "web, windows, mobile etc. \n",
    "It works more or less the same way as\n",
    "ASP.NET MVC web application except that it sends data as a response instead of html view.\n",
    "\n",
    "2->\n",
    "a-> Web services might not perform all the operations that an API would perform.\n",
    "b->A Web service uses only three styles of use: SOAP, REST and XML-RPC for\n",
    "communication whereas API may use any style for communication.\n",
    "c->A Web service always needs a network for its operation whereas an API doesn’t need\n",
    "a network for its operation."
   ]
  },
  {
   "cell_type": "code",
   "execution_count": null,
   "id": "fce050e9-6c7f-4f24-84d4-1711b8190ce3",
   "metadata": {},
   "outputs": [],
   "source": [
    "#Question N04\n",
    "REST->SOAP cannot use REST because SOAP is a protocol and REST has an architectural style.\n",
    "REST can use SOAP as a protocol for web services\n",
    "Soap->OAP uses WSDL to expose supported methods and technical details."
   ]
  },
  {
   "cell_type": "code",
   "execution_count": null,
   "id": "10e63ee4-4c7d-4938-8d1a-92b5a100eef4",
   "metadata": {},
   "outputs": [],
   "source": [
    "#question N05\n",
    "1->it stands for Simple Object Access Protocol.\n",
    "2->It is a standardized protocol for pre-defined rules to follow."
   ]
  }
 ],
 "metadata": {
  "kernelspec": {
   "display_name": "Python 3 (ipykernel)",
   "language": "python",
   "name": "python3"
  },
  "language_info": {
   "codemirror_mode": {
    "name": "ipython",
    "version": 3
   },
   "file_extension": ".py",
   "mimetype": "text/x-python",
   "name": "python",
   "nbconvert_exporter": "python",
   "pygments_lexer": "ipython3",
   "version": "3.10.8"
  }
 },
 "nbformat": 4,
 "nbformat_minor": 5
}
