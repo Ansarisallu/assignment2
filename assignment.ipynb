{
 "cells": [
  {
   "cell_type": "code",
   "execution_count": 17,
   "id": "186c8427-01ba-4417-a50f-5e6162527dd8",
   "metadata": {},
   "outputs": [
    {
     "name": "stdout",
     "output_type": "stream",
     "text": [
      "Sum of natural number 1 to 10 is as: 55\n",
      "production of natural number 1 to 10 is as: 3628800\n"
     ]
    }
   ],
   "source": [
    "# Question No 2\n",
    "n=10\n",
    "sum=0\n",
    "product=1\n",
    "\n",
    "while(n>0):\n",
    "    sum+=n\n",
    "    n=n-1\n",
    "print(\"Sum of natural number 1 to 10 is as:\",sum)\n",
    "\n",
    "n=10\n",
    "while(n>0):\n",
    "    product*=n\n",
    "    n=n-1\n",
    "print(\"production of natural number 1 to 10 is as:\",product)\n",
    "    \n",
    "\n",
    "\n",
    "\n",
    "    "
   ]
  },
  {
   "cell_type": "code",
   "execution_count": 13,
   "id": "b4d46dcf-7488-4518-8e81-0ce87d272683",
   "metadata": {},
   "outputs": [
    {
     "name": "stdin",
     "output_type": "stream",
     "text": [
      "enter the unit of bill 0\n"
     ]
    },
    {
     "name": "stdout",
     "output_type": "stream",
     "text": [
      "pay bill is 0.0\n"
     ]
    }
   ],
   "source": [
    "#Question No3\n",
    "# claculating electricity bill of house\n",
    "\n",
    "unit=int(input(\"enter the unit of bill\"))\n",
    "\n",
    "if unit<=100:\n",
    "    payRupee=unit*4.5\n",
    "    print(\"pay bill is\",payRupee)\n",
    "elif unit>100 and unit<=200:\n",
    "    payRupee=unit*6\n",
    "    print(\"pay bill is \",payRupee)\n",
    "elif unit >200 and unit<=300:\n",
    "    print(\"pay bill is \", unit*10)\n",
    "else:\n",
    "    print(\"pay bill is \",unit*30)\n",
    "    "
   ]
  },
  {
   "cell_type": "code",
   "execution_count": 44,
   "id": "c4df3ef6-69c7-4ff8-80fa-ea2990b26a6b",
   "metadata": {},
   "outputs": [
    {
     "name": "stdout",
     "output_type": "stream",
     "text": [
      "cube list as [0, 3, 6, 9, 12, 15, 18, 21, 24, 27, 30, 33, 36, 39, 42, 45, 48, 51, 54, 57, 60, 63, 66, 69, 72, 75, 78, 81, 84, 87, 90, 93, 96, 99, 102, 105, 108, 111, 114, 117, 120, 123, 126, 129, 132, 135, 138, 141, 144, 147, 150, 153, 156, 159, 162, 165, 168, 171, 174, 177, 180, 183, 186, 189, 192, 195, 198, 201, 204, 207, 210, 213, 216, 219, 222, 225, 228, 231, 234, 237, 240, 243, 246, 249, 252, 255, 258, 261, 264, 267, 270, 273, 276, 279, 282, 285, 288, 291, 294, 297, 300]\n",
      "divisible by 4 and 5 list as [0, 4, 5, 8, 10, 12, 15, 16, 20, 24, 25, 28, 30, 32, 35, 36, 40, 44, 45, 48, 50, 52, 55, 56, 60, 64, 65, 68, 70, 72, 75, 76, 80, 84, 85, 88, 90, 92, 95, 96, 100]\n"
     ]
    }
   ],
   "source": [
    "#Question no4\n",
    "list1=[]\n",
    "list2=[]\n",
    "for i in range(101):\n",
    "    list1.append(i*3)\n",
    "    j=i*3\n",
    "    if j%4==0 or j%5==0:\n",
    "        list2.append(i)\n",
    "print(\"cube list as\",list1)\n",
    "print(\"divisible by 4 and 5 list as\",list2)"
   ]
  },
  {
   "cell_type": "code",
   "execution_count": 4,
   "id": "8411d35e-6443-4626-a8b3-9edb55b4ddca",
   "metadata": {},
   "outputs": [
    {
     "name": "stdout",
     "output_type": "stream",
     "text": [
      "12\n"
     ]
    }
   ],
   "source": [
    "# Question No 5\n",
    "string=\" I want a become a data scientist\"\n",
    "count=0\n",
    "for i in string:\n",
    "    if i.lower() in ('a','i','o','u','e'):\n",
    "        count+=1\n",
    "    elif i.upper() in ('A' ,'I', 'O', 'U' ,'E'):\n",
    "        cont+=1\n",
    "print(count)"
   ]
  },
  {
   "cell_type": "code",
   "execution_count": null,
   "id": "8c38c138-5a61-4b01-9ce7-361d9f9a6949",
   "metadata": {},
   "outputs": [],
   "source": [
    "#Question No1\n",
    "For loop>\n",
    "A for loop is used for iterating over a sequence\n",
    "e.g>\n",
    "for i in range(5):\n",
    "    print(i)\n",
    "    \n",
    "#while loop\n",
    "n=10\n",
    "while(n>0):\n",
    "    print(n)\n",
    "    "
   ]
  }
 ],
 "metadata": {
  "kernelspec": {
   "display_name": "Python 3 (ipykernel)",
   "language": "python",
   "name": "python3"
  },
  "language_info": {
   "codemirror_mode": {
    "name": "ipython",
    "version": 3
   },
   "file_extension": ".py",
   "mimetype": "text/x-python",
   "name": "python",
   "nbconvert_exporter": "python",
   "pygments_lexer": "ipython3",
   "version": "3.10.8"
  }
 },
 "nbformat": 4,
 "nbformat_minor": 5
}
