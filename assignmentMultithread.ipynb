{
 "cells": [
  {
   "cell_type": "code",
   "execution_count": 1,
   "id": "c32d6a16-a120-4494-ac84-5426697857af",
   "metadata": {},
   "outputs": [
    {
     "ename": "SyntaxError",
     "evalue": "invalid syntax (1771496804.py, line 2)",
     "output_type": "error",
     "traceback": [
      "\u001b[0;36m  Cell \u001b[0;32mIn[1], line 2\u001b[0;36m\u001b[0m\n\u001b[0;31m    Multithreading refers to concurrently executing multiple threads by rapidly switching the\u001b[0m\n\u001b[0m                   ^\u001b[0m\n\u001b[0;31mSyntaxError\u001b[0m\u001b[0;31m:\u001b[0m invalid syntax\n"
     ]
    }
   ],
   "source": [
    "#Question N0 1\n",
    "1->Multithreading refers to concurrently executing multiple threads by rapidly switching the \n",
    "control of the CPU between threads\n",
    "2->Python multithreading enables efficient utilization of the resources as\n",
    "the threads share the data space and memory\n",
    "3->we need to import the threading module in Python Program. \n",
    "A start() method is used to initiate the activity of a thread."
   ]
  },
  {
   "cell_type": "code",
   "execution_count": null,
   "id": "8783c6e6-883b-4ed6-a97a-3887076a7138",
   "metadata": {},
   "outputs": [],
   "source": [
    "#Question N02\n",
    "ActiveCount() − Returns the number of thread objects that are active.\n",
    "CurrentThread() − Returns the number of thread objects in the caller's thread control.\n",
    "Enumerate() − Returns a list of all thread objects that are currently active."
   ]
  },
  {
   "cell_type": "code",
   "execution_count": null,
   "id": "f03c7927-9e91-4b21-a8ce-543665e0c942",
   "metadata": {},
   "outputs": [],
   "source": [
    "#Question N03\n",
    "run()  −> The run() method is the entry point for a thread.\n",
    "start()  −> The start() method starts a thread by calling the run method.\n",
    "join([time])  −> The join() waits for threads to terminate.\n",
    "isAlive()  −> The isAlive() method checks whether a thread is still executing."
   ]
  },
  {
   "cell_type": "code",
   "execution_count": 8,
   "id": "30f295aa-415a-4c87-b218-e49d8efe776d",
   "metadata": {},
   "outputs": [
    {
     "name": "stdout",
     "output_type": "stream",
     "text": [
      "Cube: 1000\n",
      "Square:100\n"
     ]
    }
   ],
   "source": [
    "#Question N04\n",
    "import threading\n",
    "\n",
    "def print_cube(number):\n",
    "    print(\"Cube: {}\".format(number*number*number))\n",
    "    \n",
    "def print_square(number):\n",
    "    print(\"Square:{}\".format(number*number))\n",
    "    \n",
    "if __name__==\"__main__\":\n",
    "    t1=threading.Thread(target=print_cube, args=(10,))\n",
    "    t2=threading.Thread(target=print_square, args=(10,))\n",
    "    \n",
    "    t1.start()\n",
    "    t2.start()\n",
    "    \n",
    "    t1.join()\n",
    "    t2.join()"
   ]
  },
  {
   "cell_type": "code",
   "execution_count": null,
   "id": "98314a83-ce8f-45c1-bde1-7b54517b6a63",
   "metadata": {},
   "outputs": [],
   "source": [
    "#Question N04\n",
    "Advantage -->\n",
    "1->Enhanced performance by decreased development time\n",
    "2->Simplified and streamlined program coding\n",
    "3->Improvised GUI responsiveness\n",
    "4->Simultaneous and parallelized occurrence of tasks\n",
    "5->Better use of cache storage by utilization of resources\n",
    "6->Decreased cost of maintenance\n",
    "7->Better use of CPU resource\n",
    "\n",
    "Disadvantage-->\n",
    "1->Complex debugging and testing processes\n",
    "2->Overhead switching of context\n",
    "3->Increased potential for deadlock occurrence\n",
    "4->Increased difficulty level in writing a program\n",
    "5->Unpredictable results"
   ]
  },
  {
   "cell_type": "code",
   "execution_count": null,
   "id": "269c77e1-a5a7-4933-b511-036d71935176",
   "metadata": {},
   "outputs": [],
   "source": [
    "#Question N05\n",
    "1->A race condition occurs when two threads use the same variable at a given time. \n",
    "2->Deadlock exists when two threads seek one lock simultaneously.\n",
    "This situation will stop both threads from processing or executing the functions"
   ]
  }
 ],
 "metadata": {
  "kernelspec": {
   "display_name": "Python 3 (ipykernel)",
   "language": "python",
   "name": "python3"
  },
  "language_info": {
   "codemirror_mode": {
    "name": "ipython",
    "version": 3
   },
   "file_extension": ".py",
   "mimetype": "text/x-python",
   "name": "python",
   "nbconvert_exporter": "python",
   "pygments_lexer": "ipython3",
   "version": "3.10.8"
  }
 },
 "nbformat": 4,
 "nbformat_minor": 5
}
