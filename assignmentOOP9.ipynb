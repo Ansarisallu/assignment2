{
 "cells": [
  {
   "cell_type": "code",
   "execution_count": 2,
   "id": "ccf8422f-c089-49aa-8ac9-125b886e2c08",
   "metadata": {},
   "outputs": [],
   "source": [
    "#QuestionN01\n",
    "Abstraction is the process of hiding the internal details of an application from the outer world.\n",
    "Abstraction is used to describe things in simple terms. \n",
    "It's used to create a boundary between the application and the client programs.\n",
    "There are two types of abstraction.\n",
    "\n",
    "1->Data Abstraction\n",
    "2->Process Abstraction\n",
    "\n",
    "EXAMPLE-->\n",
    "from abc import ABC, abstraction\n",
    "class Animal(ABC):\n",
    " \n",
    "    def move(self):\n",
    "        pass\n",
    " \n",
    "class Human(Animal):\n",
    " \n",
    "    def move(self):\n",
    "        print(\"I can walk and run\")\n",
    " \n",
    "class Snake(Animal):\n",
    " \n",
    "    def move(self):\n",
    "        print(\"I can crawl\")\n",
    " \n",
    "class Dog(Animal):\n",
    " \n",
    "    def move(self):\n",
    "        print(\"I can bark\")\n",
    " \n",
    "class Lion(Animal):\n",
    " \n",
    "    def move(self):\n",
    "        print(\"I can roar\")\n",
    "         \n",
    "\n",
    "R = Human()\n",
    "R.move()\n",
    " \n",
    "K = Snake()\n",
    "K.move()\n",
    " \n",
    "R = Dog()\n",
    "R.move()\n",
    " \n",
    "K = Lion()\n",
    "K.move()"
   ]
  },
  {
   "cell_type": "code",
   "execution_count": null,
   "id": "c100c0ef-8921-4a00-a375-ffdec453a2d7",
   "metadata": {},
   "outputs": [],
   "source": [
    "#QuestionN02\n",
    "ABSTRACTION\n",
    "1->Abstraction is the process or method of gaining the information.\n",
    "2->in abstraction, problems are solved at the design or interface level.\n",
    "3->Abstraction is the method of hiding the unwanted information.\n",
    "4->We can implement abstraction using abstract class and interfaces.\n",
    "\n",
    "ENCAPSUTATION\n",
    "1->While encapsulation is the process or method to contain the information.\n",
    "2->While in encapsulation, problems are solved at the implementation level.\n",
    "3->Whereas encapsulation is a method to hide the data in a single entity or unit along\n",
    "   a method to protect information from outside.\n",
    "4->Whereas encapsulation can be implemented using by access modifier \n",
    "  i.e. private, protected and public.\n",
    "    \n",
    "    Example \n",
    "    "
   ]
  },
  {
   "cell_type": "code",
   "execution_count": null,
   "id": "6f2c6c7a-5760-4389-add2-a76eea820448",
   "metadata": {},
   "outputs": [],
   "source": [
    "#Question N0 3\n",
    "1--->This module provides the infrastructure for defining abstract base classes (ABCs) in Python\n",
    "\n",
    "2-->The 'abc' module in Python library provides the infrastructure for defining custom abstract base classes.\n",
    "'abc' works by marking methods of the base class as abstract.\n",
    "This is done by @absttractmethod decorator."
   ]
  },
  {
   "cell_type": "code",
   "execution_count": null,
   "id": "0ef36358-c021-4a39-b6fe-b38cd2ae0406",
   "metadata": {},
   "outputs": [],
   "source": [
    "#question n0 4\n",
    "Data abstraction is a method where essential elements are displayed to the user\n",
    "and trivial elements are kept hidden.\n",
    "In Java, abstraction is achieved by using the abstract keyword for classes and interfaces.\n",
    "In abstract classes, we can have abstract methods as well as concrete methods."
   ]
  },
  {
   "cell_type": "code",
   "execution_count": null,
   "id": "5afd6363-0f5e-47ef-ae4d-6aad41d641ad",
   "metadata": {},
   "outputs": [],
   "source": [
    "#Question N0 5\n",
    "Abstract classes cannot be instantiated, but they can be subclassed.\n",
    "When an abstract class is subclassed, the subclass usually provides implementations \n",
    "for all of the abstract methods in its parent class. \n",
    "However, if it does not, then the subclass must also be declared abstract ."
   ]
  }
 ],
 "metadata": {
  "kernelspec": {
   "display_name": "Python 3 (ipykernel)",
   "language": "python",
   "name": "python3"
  },
  "language_info": {
   "codemirror_mode": {
    "name": "ipython",
    "version": 3
   },
   "file_extension": ".py",
   "mimetype": "text/x-python",
   "name": "python",
   "nbconvert_exporter": "python",
   "pygments_lexer": "ipython3",
   "version": "3.10.8"
  }
 },
 "nbformat": 4,
 "nbformat_minor": 5
}
