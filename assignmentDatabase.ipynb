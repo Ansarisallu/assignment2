{
 "cells": [
  {
   "cell_type": "code",
   "execution_count": null,
   "id": "acdd56f7-6863-4f59-b59a-e0a6f3890aec",
   "metadata": {},
   "outputs": [],
   "source": [
    "#Question N01\n",
    "1-> database is an organized collection of structured information, \n",
    "or data, typically stored electronically in a computer system\n",
    "\n",
    "2-->What is the difference between SQL database and NoSQL database?\n",
    "SQL databases are vertically scalable,\n",
    "while NoSQL databases are horizontally scalable.\n",
    "SQL databases are table-based, \n",
    "while NoSQL databases are document, key-value, graph, or wide-column stores.\n",
    "SQL databases are better for multi-row transactions, \n",
    "while NoSQL is better for unstructured data like documents or JSON."
   ]
  },
  {
   "cell_type": "code",
   "execution_count": null,
   "id": "ffbfa9c0-8c76-4ecf-8be0-5eaa86ab9a65",
   "metadata": {},
   "outputs": [],
   "source": [
    "#Question N02\n",
    "1->DDL means data definition language\n",
    "A data definition language (DDL) is a computer language used to create and\n",
    "modify the structure of database objects in a database. \n",
    "These database objects include views, schemas, tables, indexes, etc.\n",
    "\n",
    "2->\n",
    "a->The CREATE TABLE command creates a new table in the database.\n",
    "e.g->CREATE TABLE Persons (\n",
    "    PersonID int,\n",
    "    LastName varchar(255),\n",
    "    FirstName varchar(255),\n",
    "    Address varchar(255),\n",
    "    City varchar(255)\n",
    ");\n",
    "\n",
    "b->the ALTER TABLE command adds, deletes, or modifies columns in a table.\n",
    "e.g->ALTER TABLE Customers\n",
    "ADD Email varchar(200);\n",
    "\n",
    "c->The DROP TABLE command deletes a table in the database.\n",
    "e.g->Drop Table tablename;\n",
    "\n",
    "d->The TRUNCATE TABLE command deletes the data inside a table, but not the table itself.\n",
    "e.g->Trucncate table LastName;"
   ]
  },
  {
   "cell_type": "code",
   "execution_count": null,
   "id": "12f14b1f-624e-4d55-88ee-e0af7b0e43d2",
   "metadata": {},
   "outputs": [],
   "source": [
    "#Question N03\n",
    "1-> data manipulation language (DML) is a family of computer languages including\n",
    "commands permitting users to manipulate data in a database\n",
    "\n",
    "2->\n",
    "a->The INSERT INTO command is used to insert new rows in a table.\n",
    "e.g->INSERT INTO  Persons (PersonID ,LastName varchar(255), FirstName varchar(255), Address varchar(255), City varchar(255)\n",
    ");\n",
    "value(\"1\",'Ansari','Sallu','Narkatiya','Kushinagar',)\n",
    "\n",
    "b->The UPDATE statement is used to modify the existing records in a table\n",
    "e.g.->UPDATE tablename\n",
    "SET LastName = 'pathan, ...\n",
    "WHERE PersonId=1;\n",
    "\n",
    "c->The DELETE statement is used to delete existing records in a table.\n",
    "e.g.->DELETE FROM Table_name WHERE LastName='Pathan';"
   ]
  },
  {
   "cell_type": "code",
   "execution_count": null,
   "id": "279c4303-1642-43e0-8815-ee656c48e9de",
   "metadata": {},
   "outputs": [],
   "source": [
    "#Question N04\n",
    "1->An SQL SELECT statement retrieves records from a database table according to clauses\n",
    "(for example, FROM and WHERE ) that specify criteria\n",
    "2->Select *from tableName;"
   ]
  },
  {
   "cell_type": "code",
   "execution_count": null,
   "id": "86c205a2-6ace-458d-83b2-9f08d6772ca3",
   "metadata": {},
   "outputs": [],
   "source": [
    "#Question N05\n",
    "\n",
    "1->A primary key generally focuses on the uniqueness of the table.\n",
    "It assures the value in the specific column is unique.it may be only one in any table\n",
    "2->A foreign key is generally used to build a relationship between the two tables.it take reference from primary \n"
   ]
  },
  {
   "cell_type": "code",
   "execution_count": null,
   "id": "9497fe36-36fb-49fe-9820-2af3ea9a4df5",
   "metadata": {},
   "outputs": [],
   "source": [
    "#Question n07\n",
    "1->From\n",
    "2->Where\n",
    "3->Group By\n",
    "4->Having"
   ]
  },
  {
   "cell_type": "code",
   "execution_count": 2,
   "id": "7cd560ad-2390-4906-9bea-8f44cf2a17c9",
   "metadata": {},
   "outputs": [
    {
     "ename": "ModuleNotFoundError",
     "evalue": "No module named 'mysql'",
     "output_type": "error",
     "traceback": [
      "\u001b[0;31m---------------------------------------------------------------------------\u001b[0m",
      "\u001b[0;31mModuleNotFoundError\u001b[0m                       Traceback (most recent call last)",
      "Cell \u001b[0;32mIn[2], line 2\u001b[0m\n\u001b[1;32m      1\u001b[0m \u001b[38;5;66;03m#Question N06\u001b[39;00m\n\u001b[0;32m----> 2\u001b[0m \u001b[38;5;28;01mimport\u001b[39;00m \u001b[38;5;21;01mmysql\u001b[39;00m\u001b[38;5;21;01m.\u001b[39;00m\u001b[38;5;21;01mconnector\u001b[39;00m\n\u001b[1;32m      3\u001b[0m myconn \u001b[38;5;241m=\u001b[39m mysql\u001b[38;5;241m.\u001b[39mconnector\u001b[38;5;241m.\u001b[39mconnect(host \u001b[38;5;241m=\u001b[39m \u001b[38;5;124m\"\u001b[39m\u001b[38;5;124mlocalhost\u001b[39m\u001b[38;5;124m\"\u001b[39m, user \u001b[38;5;241m=\u001b[39m \u001b[38;5;124m\"\u001b[39m\u001b[38;5;124mroot\u001b[39m\u001b[38;5;124m\"\u001b[39m,passwd \u001b[38;5;241m=\u001b[39m \u001b[38;5;124m\"\u001b[39m\u001b[38;5;124mgoogle\u001b[39m\u001b[38;5;124m\"\u001b[39m, database \u001b[38;5;241m=\u001b[39m \u001b[38;5;124m\"\u001b[39m\u001b[38;5;124mmydb\u001b[39m\u001b[38;5;124m\"\u001b[39m)\n\u001b[1;32m      4\u001b[0m \u001b[38;5;28mprint\u001b[39m(myconn)\n",
      "\u001b[0;31mModuleNotFoundError\u001b[0m: No module named 'mysql'"
     ]
    }
   ],
   "source": [
    "#Question N06\n",
    "import mysql.connector\n",
    "myconn = mysql.connector.connect(host = \"localhost\", user = \"root\",passwd = \"google\", database = \"mydb\")\n",
    "print(myconn)\n",
    "cur = myconn.cursor()\n",
    "print(cur)"
   ]
  }
 ],
 "metadata": {
  "kernelspec": {
   "display_name": "Python 3 (ipykernel)",
   "language": "python",
   "name": "python3"
  },
  "language_info": {
   "codemirror_mode": {
    "name": "ipython",
    "version": 3
   },
   "file_extension": ".py",
   "mimetype": "text/x-python",
   "name": "python",
   "nbconvert_exporter": "python",
   "pygments_lexer": "ipython3",
   "version": "3.10.8"
  }
 },
 "nbformat": 4,
 "nbformat_minor": 5
}
