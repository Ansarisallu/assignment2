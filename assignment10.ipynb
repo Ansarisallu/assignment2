{
 "cells": [
  {
   "cell_type": "code",
   "execution_count": 9,
   "id": "7f5be434-1fda-4991-920a-058b17b98b7e",
   "metadata": {},
   "outputs": [
    {
     "name": "stdout",
     "output_type": "stream",
     "text": [
      "name: swift\n",
      "max speed: 180\n",
      "average speed of vehicle: 90\n"
     ]
    }
   ],
   "source": [
    "#Question N0\n",
    "class vehicle:\n",
    "    def __init__(self,name_of_vehicle,max_speed,average_of_vehicle ):\n",
    "        self.name_of_vehicle=name_of_vehicle\n",
    "        self.max_speed=max_speed\n",
    "        self.average_of_vehicle=average_of_vehicle\n",
    "\n",
    "car1=vehicle(\"swift\",180,90)\n",
    "print(\"name:\",car1.name_of_vehicle)\n",
    "print(\"max speed:\",car1.max_speed)\n",
    "print(\"average speed of vehicle:\",car1.average_of_vehicle)\n"
   ]
  },
  {
   "cell_type": "code",
   "execution_count": 10,
   "id": "a21a4943-6b03-4988-8ad4-a13e5e067eb8",
   "metadata": {},
   "outputs": [
    {
     "name": "stdout",
     "output_type": "stream",
     "text": [
      "In Class2\n"
     ]
    }
   ],
   "source": [
    "#Question N03\n",
    "Multiple Inheritance \n",
    "When a class is derived from more than one base class it is called multiple Inheritance.\n",
    "The derived class inherits all the features of the base case.\n",
    "code--->\n",
    "\n",
    "class Class1:\n",
    "    def m(self):\n",
    "        print(\"In Class1\")\n",
    "       \n",
    "class Class2(Class1):\n",
    "    def m(self):\n",
    "        print(\"In Class2\")\n",
    " \n",
    "class Class3(Class1):\n",
    "    def m(self):\n",
    "        print(\"In Class3\") \n",
    "        \n",
    "class Class4(Class2, Class3):\n",
    "    pass  \n",
    "     \n",
    "obj = Class4()\n",
    "obj.m()\n"
   ]
  },
  {
   "cell_type": "code",
   "execution_count": 16,
   "id": "b92c658b-08a1-4a91-8e25-15dda96ce0da",
   "metadata": {},
   "outputs": [
    {
     "name": "stdout",
     "output_type": "stream",
     "text": [
      "21\n"
     ]
    }
   ],
   "source": [
    "#Question N04\n",
    "We use getters & setters to add validation logic around getting and setting a value.\n",
    "To avoid direct access of a class field \n",
    "i.e. private variables cannot be accessed directly or modified by external user.\n",
    "\n",
    "Example\n",
    "class Geek:\n",
    "    def __init__(self, age = 0):\n",
    "         self._age = age\n",
    "      \n",
    "    # getter method\n",
    "    def get_age(self):\n",
    "        return self._age\n",
    "      \n",
    "    # setter method\n",
    "    def set_age(self, x):\n",
    "        self._age = x\n",
    "obj=Geek()\n",
    "obj.set_age(21)\n",
    "\n",
    "print(obj.get_age())"
   ]
  },
  {
   "cell_type": "code",
   "execution_count": 17,
   "id": "fa106a9f-6af4-4a5c-9ca0-11910595ead8",
   "metadata": {},
   "outputs": [
    {
     "name": "stdout",
     "output_type": "stream",
     "text": [
      "Inside Parent\n",
      "Inside Child\n"
     ]
    }
   ],
   "source": [
    "#Question N0 5\n",
    "Method overriding is an ability of any object-oriented programming language\n",
    "that allows a subclass or child class to provide a specific implementation of a method\n",
    "that is already provided by one of its super-classes or parent classes.\n",
    "When a method in a subclass has the same name, same parameters \n",
    "or signature and same return type(or sub-type) as a method in its super-class, \n",
    "then the method in the subclass is said to override the method in the super-class.\n",
    "\n",
    "Example-->\n",
    "class Parent():\n",
    "      \n",
    "   \n",
    "    def __init__(self):\n",
    "        self.value = \"Inside Parent\"\n",
    "          \n",
    "    \n",
    "    def show(self):\n",
    "        print(self.value)\n",
    "\n",
    "class Child(Parent):\n",
    "      \n",
    "   \n",
    "    def __init__(self):\n",
    "        self.value = \"Inside Child\"\n",
    "          \n",
    "    \n",
    "    def show(self):\n",
    "        print(self.value)\n",
    "          \n",
    "\n",
    "obj1 = Parent()\n",
    "obj2 = Child()\n",
    "  \n",
    "obj1.show()\n",
    "obj2.show()\n"
   ]
  }
 ],
 "metadata": {
  "kernelspec": {
   "display_name": "Python 3 (ipykernel)",
   "language": "python",
   "name": "python3"
  },
  "language_info": {
   "codemirror_mode": {
    "name": "ipython",
    "version": 3
   },
   "file_extension": ".py",
   "mimetype": "text/x-python",
   "name": "python",
   "nbconvert_exporter": "python",
   "pygments_lexer": "ipython3",
   "version": "3.10.8"
  }
 },
 "nbformat": 4,
 "nbformat_minor": 5
}
