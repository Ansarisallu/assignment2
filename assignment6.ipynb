{
 "cells": [
  {
   "cell_type": "code",
   "execution_count": 8,
   "id": "74877aca-06c2-4e7c-a198-7e140b60ec0e",
   "metadata": {},
   "outputs": [
    {
     "name": "stdin",
     "output_type": "stream",
     "text": [
      "enter the marks 81\n"
     ]
    },
    {
     "name": "stdout",
     "output_type": "stream",
     "text": [
      "Grade B\n"
     ]
    }
   ],
   "source": [
    "#Question N01\n",
    "marks=int(input(\"enter the marks\"))\n",
    "\n",
    "if(marks>90 and marks<=100):\n",
    "    print(\"Grade A\")\n",
    "    \n",
    "elif(marks>80 and marks<=90):\n",
    "    print(\"Grade B\")\n",
    "elif(marks >=60 and marks <=80):\n",
    "    print(\"Grade C\")\n",
    "    \n",
    "elif(marks<60 and marks>0 ):\n",
    "    print(\"Grade D\")\n",
    "else:\n",
    "    print(\"Invailid marks please enter the vailid marks\")\n",
    "   "
   ]
  },
  {
   "cell_type": "code",
   "execution_count": 13,
   "id": "b427302d-be45-4d1c-9c25-c416a4ecd86d",
   "metadata": {},
   "outputs": [
    {
     "name": "stdin",
     "output_type": "stream",
     "text": [
      "Enter the costPrice 40000\n"
     ]
    },
    {
     "name": "stdout",
     "output_type": "stream",
     "text": [
      "Paid tax 5 percentage\n"
     ]
    }
   ],
   "source": [
    "#Question N02\n",
    "costPrice=int(input(\"Enter the costPrice\"))\n",
    "\n",
    "if costPrice>100000:\n",
    "    print(\"paid tax 15 percentage\")\n",
    "elif costPrice >50000 and costprice<=100000:\n",
    "    print(\"Paid tax 10 percentage\")\n",
    "else:\n",
    "    print(\"Paid tax 5 percentage\")"
   ]
  },
  {
   "cell_type": "code",
   "execution_count": 22,
   "id": "cebdf4b4-f86f-46ae-a03a-568b2d22a6fc",
   "metadata": {},
   "outputs": [
    {
     "name": "stdin",
     "output_type": "stream",
     "text": [
      "Enter the city name delhi\n"
     ]
    },
    {
     "name": "stdout",
     "output_type": "stream",
     "text": [
      "invaild city please enter the valid city\n"
     ]
    }
   ],
   "source": [
    "#Question N03\n",
    "cityName=input(\"Enter the city name\")\n",
    "\n",
    "if cityName==\"Delhi\":\n",
    "    print(\"RedFort\")\n",
    "elif cityName==\"Agra\":\n",
    "    print(\"Taj mahal\")\n",
    "elif cityName==\"Mumbai\":\n",
    "    print(\"India Gate\")\n",
    "else:\n",
    "    print(\"invaild city please enter the valid city\")\n",
    "    "
   ]
  },
  {
   "cell_type": "code",
   "execution_count": 11,
   "id": "15266ab1-465b-4631-8361-c9193462708d",
   "metadata": {},
   "outputs": [
    {
     "name": "stdout",
     "output_type": "stream",
     "text": [
      "3\n"
     ]
    }
   ],
   "source": [
    "#Question N04\n",
    "# number=int(input(\"enter the number\"))\n",
    "count=0\n",
    "for i in range(1,10):\n",
    "    if i%3==0:\n",
    "        count+=1\n",
    "print(count)"
   ]
  },
  {
   "cell_type": "code",
   "execution_count": 5,
   "id": "6d92db90-0977-4d36-a238-da25d02570cf",
   "metadata": {},
   "outputs": [
    {
     "name": "stdout",
     "output_type": "stream",
     "text": [
      "* * * * * \n",
      "* * * * * \n",
      "* * * * * \n",
      "* * * * * \n",
      "* * * * * \n",
      "* \n",
      "* * \n",
      "* * * \n",
      "* * * * \n",
      "* * * * * \n",
      "* * * * * \n",
      "* * * * \n",
      "* * * \n",
      "* * \n",
      "* \n"
     ]
    }
   ],
   "source": [
    "#Question N06\n",
    "n=5\n",
    "j=1\n",
    "while j<=n:\n",
    "    i=1\n",
    "    while i<=n:\n",
    "        print(\"*\", end=\" \")\n",
    "        i=i+1\n",
    "    print()\n",
    "    j=j+1\n",
    "\n",
    "#<--------------------------------------------------------------------->  \n",
    "n=5\n",
    "j=1\n",
    "while j<=n:\n",
    "    i=1\n",
    "    while i<=j:\n",
    "        print(\"*\", end=\" \")\n",
    "        i=i+1\n",
    "    print()\n",
    "    j=j+1\n",
    "\n",
    "#    <----------------------------------------------------------------->\n",
    "n=5\n",
    "i=1\n",
    "while i<=5:\n",
    "    j=1\n",
    "    while j<=n-i+1:\n",
    "        print(\"*\", end=\" \")\n",
    "        j=j+1\n",
    "    print()\n",
    "    i=i+1\n",
    "\n",
    "    "
   ]
  },
  {
   "cell_type": "code",
   "execution_count": 10,
   "id": "ddb26605-f93c-46d2-8c5a-b68f779daa7c",
   "metadata": {},
   "outputs": [
    {
     "name": "stdout",
     "output_type": "stream",
     "text": [
      "10 9 8 7 6 5 4 3 2 1 "
     ]
    }
   ],
   "source": [
    "#Question N07\n",
    "n=10\n",
    "while n>0:\n",
    "    print(n ,end=' ')\n",
    "    \n",
    "    n=n-1"
   ]
  },
  {
   "cell_type": "code",
   "execution_count": 12,
   "id": "100da59a-8d79-4b29-a0d9-99d1fd996445",
   "metadata": {},
   "outputs": [
    {
     "ename": "SyntaxError",
     "evalue": "invalid syntax (2380487389.py, line 2)",
     "output_type": "error",
     "traceback": [
      "\u001b[0;36m  Cell \u001b[0;32mIn[12], line 2\u001b[0;36m\u001b[0m\n\u001b[0;31m    repeat question of N07\u001b[0m\n\u001b[0m           ^\u001b[0m\n\u001b[0;31mSyntaxError\u001b[0m\u001b[0;31m:\u001b[0m invalid syntax\n"
     ]
    }
   ],
   "source": [
    "#Question N08\n",
    "repeat question of N07"
   ]
  },
  {
   "cell_type": "code",
   "execution_count": null,
   "id": "aa22ff92-d702-4c93-b3d1-e2a69c97cde3",
   "metadata": {},
   "outputs": [],
   "source": [
    "#Question N05\n",
    "whileLoop->Python while loop is used to run a block code until a certain condition is met.\n",
    "# program to display numbers from 1 to 5\n",
    "\n",
    "# initialize the variable\n",
    "i = 1\n",
    "n = 5\n",
    "\n",
    "# while loop from i = 1 to 5\n",
    "while i <= n:\n",
    "    print(i)\n",
    "    i = i + 1\n",
    "if we want to ask a user for a number between 1 and 10, \n",
    "we don't know how many times the user may enter a larger number, \n",
    "so we keep asking \"while the number is not between 1 and 10\".\n"
   ]
  }
 ],
 "metadata": {
  "kernelspec": {
   "display_name": "Python 3 (ipykernel)",
   "language": "python",
   "name": "python3"
  },
  "language_info": {
   "codemirror_mode": {
    "name": "ipython",
    "version": 3
   },
   "file_extension": ".py",
   "mimetype": "text/x-python",
   "name": "python",
   "nbconvert_exporter": "python",
   "pygments_lexer": "ipython3",
   "version": "3.10.8"
  }
 },
 "nbformat": 4,
 "nbformat_minor": 5
}
