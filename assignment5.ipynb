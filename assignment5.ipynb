{
 "cells": [
  {
   "cell_type": "code",
   "execution_count": null,
   "id": "86b96898-debf-4b10-af25-ca02cb9d59f8",
   "metadata": {},
   "outputs": [],
   "source": [
    "#Question N01\n",
    "Python was developed by Guido van Rossum"
   ]
  },
  {
   "cell_type": "code",
   "execution_count": null,
   "id": "43354f7a-8f00-4c39-a592-e812bbf737b0",
   "metadata": {},
   "outputs": [],
   "source": [
    "#Question N02\n",
    "Python is dynamically typed and garbage-collected. It supports multiple programming\n",
    "1->paradigms, \n",
    "2->including structured (particularly procedural), \n",
    "3->object-oriented and functional programming."
   ]
  },
  {
   "cell_type": "code",
   "execution_count": null,
   "id": "4c56a497-665b-4130-ac11-a62a45ba9d5c",
   "metadata": {},
   "outputs": [],
   "source": [
    "#Question N03\n",
    "yes python is case sensitive programming language\n",
    "ex->\n",
    "uppercase and lower case chararter is defferent\n"
   ]
  },
  {
   "cell_type": "code",
   "execution_count": null,
   "id": "333e07fb-9fb1-4050-9fee-064e13d7406a",
   "metadata": {},
   "outputs": [],
   "source": [
    "#Question  N04\n",
    "correct extension for python is .py"
   ]
  },
  {
   "cell_type": "code",
   "execution_count": null,
   "id": "1f5665ca-714b-45d1-9d0d-a5470c647bc9",
   "metadata": {},
   "outputs": [],
   "source": [
    "#question N0 5\n",
    "Python is an interpreted language,\n",
    "which means the source code of a Python program is converted into bytecode\n",
    "that is then executed by the Python virtual machine."
   ]
  },
  {
   "cell_type": "code",
   "execution_count": null,
   "id": "be2dcbee-25c2-480c-989b-18e3c2ed113a",
   "metadata": {},
   "outputs": [],
   "source": [
    "#questionN06\n",
    "1->a module\n",
    "2->a function body\n",
    "3->a class definition"
   ]
  },
  {
   "cell_type": "code",
   "execution_count": null,
   "id": "9797156d-ad59-4195-9398-88a7f6408824",
   "metadata": {},
   "outputs": [],
   "source": [
    "#QuestionN07\n",
    "Hash character(#)"
   ]
  },
  {
   "cell_type": "code",
   "execution_count": null,
   "id": "a250237d-8dbc-4bdc-a860-183e1aae0b22",
   "metadata": {},
   "outputs": [],
   "source": [
    "#QuestionN08\n",
    "The function sys. version can help us to find the version of python\n",
    "that we are currently working on.\n",
    "Example 3.5"
   ]
  },
  {
   "cell_type": "code",
   "execution_count": null,
   "id": "a751b7e2-db5f-4259-af5c-3c40391e3e61",
   "metadata": {},
   "outputs": [],
   "source": [
    "#Question N09\n",
    "Python supports to make anonymous functions\n",
    "It uses a construct called \"lambda\" ."
   ]
  },
  {
   "cell_type": "code",
   "execution_count": null,
   "id": "27f12ed0-bdf4-4cd5-afce-a7991c5386c6",
   "metadata": {},
   "outputs": [],
   "source": [
    "#Question N010\n",
    "developed in 2008\n",
    "pip ( “pip Install Packages”) is  the standard tool for installing Python packages"
   ]
  },
  {
   "cell_type": "code",
   "execution_count": null,
   "id": "7215616d-2699-4f4b-9119-7c2748d47112",
   "metadata": {},
   "outputs": [],
   "source": [
    "#questionN011\n",
    "print( ) function\n",
    "type( ) function\n",
    "input( ) function\n",
    "pow( ) function.\n",
    "sorted( ) function.\n",
    "max( ) function.\n",
    "min() funtion\n"
   ]
  },
  {
   "cell_type": "code",
   "execution_count": null,
   "id": "5d1438d0-a761-4877-bc06-57c3d676cf70",
   "metadata": {},
   "outputs": [],
   "source": [
    "#Question N012\n",
    "python is one of the most papular programming language\n",
    "maximum possible length identifier in python is 79 character"
   ]
  },
  {
   "cell_type": "code",
   "execution_count": null,
   "id": "537aa62b-db89-4087-a2dd-a0364612e101",
   "metadata": {},
   "outputs": [],
   "source": [
    "#Question N013\n",
    "Libraries help reduce coding errors\n",
    "make programmers more efficient\n",
    "make software smaller in size\n"
   ]
  },
  {
   "cell_type": "code",
   "execution_count": null,
   "id": "e476dc8a-b46d-4b33-86b3-966ed4052818",
   "metadata": {},
   "outputs": [],
   "source": [
    "#Question N014\n",
    "Memory management in Python involves a private heap containing all Python objects and \n",
    "data structures.\n"
   ]
  },
  {
   "cell_type": "code",
   "execution_count": null,
   "id": "c6d63b0f-c177-44fd-b08f-8971b4149573",
   "metadata": {},
   "outputs": [],
   "source": [
    "#Question N015\n",
    "1->Right-clicking This PC and going to Properties.\n",
    "\n",
    "2->Clicking on the Advanced system settings in the menu on the left.\n",
    "\n",
    "3->Clicking on the Environment Variables button o.n the bottom right.\n",
    "\n",
    "4->In the System variables section, selecting the Path variable and clicking on Edit. \n",
    "The next screen will show all the directories that are currently a part of the PATH variable.\n",
    "\n",
    "5->Clicking on New and entering Python’s install directory.\n"
   ]
  },
  {
   "cell_type": "code",
   "execution_count": null,
   "id": "6df78d0f-edd0-4f61-a5d9-a0c54ec03225",
   "metadata": {},
   "outputs": [],
   "source": [
    "#question N016\n",
    " indentation in Python is very important. \n",
    "Python uses indentation to indicate a block of code."
   ]
  }
 ],
 "metadata": {
  "kernelspec": {
   "display_name": "Python 3 (ipykernel)",
   "language": "python",
   "name": "python3"
  },
  "language_info": {
   "codemirror_mode": {
    "name": "ipython",
    "version": 3
   },
   "file_extension": ".py",
   "mimetype": "text/x-python",
   "name": "python",
   "nbconvert_exporter": "python",
   "pygments_lexer": "ipython3",
   "version": "3.10.8"
  }
 },
 "nbformat": 4,
 "nbformat_minor": 5
}
