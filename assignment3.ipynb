{
 "cells": [
  {
   "cell_type": "code",
   "execution_count": 4,
   "id": "b0d1ce6c-00da-43bf-94f2-a1ee63c77f93",
   "metadata": {},
   "outputs": [
    {
     "data": {
      "text/plain": [
       "[1, 3, 5, 7, 9, 11, 13, 15, 17, 19, 21, 23]"
      ]
     },
     "execution_count": 4,
     "metadata": {},
     "output_type": "execute_result"
    }
   ],
   "source": [
    "#Question N0 1\n",
    "list=[]\n",
    "def oddNum(x):\n",
    "    \n",
    "    return x\n",
    "\n",
    "for i in range(1,25):\n",
    "     if i%2!=0:\n",
    "            list.append(oddNum(i))\n",
    "list"
   ]
  },
  {
   "cell_type": "code",
   "execution_count": 6,
   "id": "0ec06d27-51e9-464a-8a1d-5407929fa606",
   "metadata": {},
   "outputs": [
    {
     "data": {
      "text/plain": [
       "[2, 4, 6, 8, 10]"
      ]
     },
     "execution_count": 6,
     "metadata": {},
     "output_type": "execute_result"
    }
   ],
   "source": [
    "#question N03\n",
    "iteration->Repetitive execution of the same block of code over and over is referred to as iteration.\n",
    "----------there are two types of iteration-----\n",
    "ForLoop-> Definite iteration, in which the number of repetitions is specified explicitly in advance.\n",
    "WhileLoop->Indefinite iteration, in which the code block executes until some condition is met.\n",
    "\n",
    "list= [2, 4, 6, 8, 10, 12, 14,16, 18, 20]\n",
    "l2=[]\n",
    "for i in list:\n",
    "    if i<=10:\n",
    "        l2.append(i)\n",
    "l2"
   ]
  },
  {
   "cell_type": "code",
   "execution_count": 8,
   "id": "377d06eb-f30f-48a5-94c0-31a6818af956",
   "metadata": {},
   "outputs": [
    {
     "name": "stdout",
     "output_type": "stream",
     "text": [
      "0\n",
      "1\n",
      "1\n",
      "2\n",
      "3\n",
      "5\n",
      "8\n",
      "13\n",
      "21\n",
      "34\n"
     ]
    }
   ],
   "source": [
    "#Question N06\n",
    "n=10\n",
    "a,b=0,1\n",
    "while n>0:\n",
    "    print(a)\n",
    "    a,b=b,a+b\n",
    "    n=n-1"
   ]
  },
  {
   "cell_type": "code",
   "execution_count": 10,
   "id": "263213f8-3d9c-4663-9b10-b1edd7926fe2",
   "metadata": {},
   "outputs": [
    {
     "data": {
      "text/plain": [
       "['p', 'w', 's', 'k', 'i', 'l', 'l', 's']"
      ]
     },
     "execution_count": 10,
     "metadata": {},
     "output_type": "execute_result"
    }
   ],
   "source": [
    "#question N07\n",
    "str='pwskills'\n",
    "[i for i in str]"
   ]
  },
  {
   "cell_type": "code",
   "execution_count": 17,
   "id": "ecf901dd-da1c-4722-96a7-018e2c89e8be",
   "metadata": {},
   "outputs": [
    {
     "name": "stdin",
     "output_type": "stream",
     "text": [
      "Enter the number 132\n"
     ]
    },
    {
     "name": "stdout",
     "output_type": "stream",
     "text": [
      "No this number is not palidrome\n"
     ]
    }
   ],
   "source": [
    "#Question N08\n",
    "n=int(input(\"Enter the number\"))\n",
    "temp=n\n",
    "rev=0\n",
    "while n>0:\n",
    "    n1=n%10\n",
    "    rev=rev*10 +n1\n",
    "    n=n//10\n",
    "if temp==rev:\n",
    "    print(\"yes it is palidrome\")\n",
    "else:\n",
    "    print(\"No this number is not palidrome\")"
   ]
  },
  {
   "cell_type": "code",
   "execution_count": 24,
   "id": "3cf5929e-1fb3-4650-b078-ad0b8f3e3e9a",
   "metadata": {},
   "outputs": [
    {
     "data": {
      "text/plain": [
       "[1,\n",
       " 3,\n",
       " 5,\n",
       " 7,\n",
       " 9,\n",
       " 11,\n",
       " 13,\n",
       " 15,\n",
       " 17,\n",
       " 19,\n",
       " 21,\n",
       " 23,\n",
       " 25,\n",
       " 27,\n",
       " 29,\n",
       " 31,\n",
       " 33,\n",
       " 35,\n",
       " 37,\n",
       " 39,\n",
       " 41,\n",
       " 43,\n",
       " 45,\n",
       " 47,\n",
       " 49,\n",
       " 51,\n",
       " 53,\n",
       " 55,\n",
       " 57,\n",
       " 59,\n",
       " 61,\n",
       " 63,\n",
       " 65,\n",
       " 67,\n",
       " 69,\n",
       " 71,\n",
       " 73,\n",
       " 75,\n",
       " 77,\n",
       " 79,\n",
       " 81,\n",
       " 83,\n",
       " 85,\n",
       " 87,\n",
       " 89,\n",
       " 91,\n",
       " 93,\n",
       " 95,\n",
       " 97,\n",
       " 99]"
      ]
     },
     "execution_count": 24,
     "metadata": {},
     "output_type": "execute_result"
    }
   ],
   "source": [
    "#Question N0 9\n",
    "[i  for i in range(1,100) if i%2!=0]"
   ]
  },
  {
   "cell_type": "code",
   "execution_count": 7,
   "id": "cd35765e-c97d-4be8-bae4-dc92df2badbc",
   "metadata": {},
   "outputs": [],
   "source": [
    "\n",
    "#Question N04\n",
    "Generator-Function: generator function is work like normal function .\n",
    "Generators are useful when we want to produce a large sequence of values,\n",
    "but we don't want to store all of them in memory at once.\n",
    "\n",
    "it is return value of one who are called fuction\n",
    "l = [1, 2, 3]\n",
    "l_iter = iter(l) \n",
    "print(next(l_iter))\n",
    "-------------------------------------------------------------------------\n",
    "\n",
    "Yield-->yield keywor are used to return values and object in python \n",
    "it is return value of one who are called fuction"
   ]
  },
  {
   "cell_type": "code",
   "execution_count": 9,
   "id": "8725491e-1099-414e-bb29-3f42924b8ee1",
   "metadata": {},
   "outputs": [],
   "source": [
    "#Questtion N02\n",
    "*args-> agrs arev used to pass the argument of funtion.it is pass multiple values\n",
    "or list tuple of function but inthis we are not pass dict because dit are store keys and value\n",
    " Example->\n",
    "    def sallu(*args):\n",
    "    return args\n",
    "sallu(2,4,5,6,7,\"sallu\")\n",
    "<-------------------------------------------------------------------------------------------->\n",
    "\n",
    "**agrs->it is also used to pass argument of funtion it different from *agrs because it can pass the dictionary.\n",
    " Example-> \n",
    "    def sallu(**args):\n",
    "    return args\n",
    "sallu(a=1,b=2)"
   ]
  },
  {
   "cell_type": "code",
   "execution_count": 3,
   "id": "b17f8e0d-d324-481f-900b-788f966ba12f",
   "metadata": {},
   "outputs": [
    {
     "name": "stdout",
     "output_type": "stream",
     "text": [
      "2 3 5 7 11 13 17 19 "
     ]
    }
   ],
   "source": [
    "#Question N05\n",
    "def isPrime(n):\n",
    "     \n",
    "    if n <= 1 :\n",
    "        return False\n",
    " \n",
    "    \n",
    "    for i in range(2, n):\n",
    "        if n % i == 0:\n",
    "            return False\n",
    " \n",
    "    return True\n",
    " \n",
    "def printPrime(n):\n",
    "    for i in range(2, n + 1):\n",
    "        if isPrime(i):\n",
    "            print(i, end = \" \")\n",
    "\n",
    "\n",
    "    \n",
    "n = 19\n",
    "printPrime(n)\n",
    "     "
   ]
  }
 ],
 "metadata": {
  "kernelspec": {
   "display_name": "Python 3 (ipykernel)",
   "language": "python",
   "name": "python3"
  },
  "language_info": {
   "codemirror_mode": {
    "name": "ipython",
    "version": 3
   },
   "file_extension": ".py",
   "mimetype": "text/x-python",
   "name": "python",
   "nbconvert_exporter": "python",
   "pygments_lexer": "ipython3",
   "version": "3.10.8"
  }
 },
 "nbformat": 4,
 "nbformat_minor": 5
}
