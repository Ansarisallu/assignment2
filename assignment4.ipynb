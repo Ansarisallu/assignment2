{
 "cells": [
  {
   "cell_type": "code",
   "execution_count": 69,
   "id": "763b58cb-aff0-470b-8a37-fd566b8ec28c",
   "metadata": {},
   "outputs": [
    {
     "ename": "IndentationError",
     "evalue": "unindent does not match any outer indentation level (<tokenize>, line 3)",
     "output_type": "error",
     "traceback": [
      "\u001b[0;36m  File \u001b[0;32m<tokenize>:3\u001b[0;36m\u001b[0m\n\u001b[0;31m    1->Inheritance\u001b[0m\n\u001b[0m    ^\u001b[0m\n\u001b[0;31mIndentationError\u001b[0m\u001b[0;31m:\u001b[0m unindent does not match any outer indentation level\n"
     ]
    }
   ],
   "source": [
    "#Question N02\n",
    "     Four pillar Name->\n",
    "    1->Inheritance\n",
    "    2->Polymorphism\n",
    "    3->Abstraction\n",
    "    4->Encapsutation"
   ]
  },
  {
   "cell_type": "code",
   "execution_count": null,
   "id": "546176c5-5840-4868-bbcb-ffcc3c641b49",
   "metadata": {},
   "outputs": [],
   "source": [
    "#Question N01\n",
    "class-->\n",
    "class is blueprint of real object.as behaviour of any object or method are define in class .\n",
    "\n",
    "object-->\n"
   ]
  },
  {
   "cell_type": "code",
   "execution_count": 49,
   "id": "5511004a-f35c-453e-9de2-079a39d6cb82",
   "metadata": {},
   "outputs": [
    {
     "name": "stdout",
     "output_type": "stream",
     "text": [
      "Hello, my name is ansari\n",
      "Hello, my name is salauddin\n"
     ]
    }
   ],
   "source": [
    "#Question N03\n",
    "# __init__->it are used to take value from object in a class.it is constructor or method\n",
    "\n",
    "\n",
    "\n",
    "# <-------------->Example\n",
    "class Person:\n",
    "\n",
    "\tdef __init__(self, name):\n",
    "\t\tself.name = name\n",
    "\n",
    "\t\n",
    "\tdef say_hi(self):\n",
    "\t\tprint('Hello, my name is', self.name)\n",
    "\n",
    "\n",
    "# Creating different objects\n",
    "p2 = Person('ansari')\n",
    "p3 = Person('salauddin')\n",
    "\n",
    "p2.say_hi()\n",
    "p3.say_hi()\n"
   ]
  },
  {
   "cell_type": "code",
   "execution_count": null,
   "id": "76743f29-f866-45b9-b32a-9c8d2843c160",
   "metadata": {},
   "outputs": [],
   "source": [
    "#Question N04\n",
    "The self variable is used to represent the instance of the\n",
    "class which is often used in object-oriented programming"
   ]
  },
  {
   "cell_type": "code",
   "execution_count": 67,
   "id": "40be0f15-f18b-4ebf-b98e-10150c15ab13",
   "metadata": {},
   "outputs": [
    {
     "name": "stdout",
     "output_type": "stream",
     "text": [
      "kallu\n",
      "sallu\n"
     ]
    }
   ],
   "source": [
    "#Question N05\n",
    "\n",
    "\n",
    "inheritance-->Inheritance allows us to define a class that inherits \n",
    "all the methods and properties from another class. \n",
    "\n",
    "<-----------Single inheritange---------->\n",
    "\n",
    "class p1:\n",
    "    \n",
    "    def Detail_p1(self):\n",
    "        print(\"this method is class of p1\")\n",
    "        \n",
    "class c1(p1):\n",
    "    \n",
    "    def detail_c1(self):\n",
    "        print(\"this method is class of c1\")\n",
    "        \n",
    "c=c1()\n",
    "c.detail_c1()\n",
    "c.Detail_p1()\n",
    "\n",
    "<--------------multilevel inheritance -------------->\n",
    "class parent:\n",
    "    def detail_parent(self):\n",
    "        print(\"this is parent class\")\n",
    "\n",
    "class child1(parent):\n",
    "    def detail_child1(self):\n",
    "        print(\"This is child class1\")\n",
    "        \n",
    "class child2(child1):\n",
    "    def detail_child2(self):\n",
    "        print(\"This is child2 class\")\n",
    "obj_child2=child2()\n",
    "obj_child2.detail_child2()\n",
    "obj_child2.detail_child1()\n",
    "obj_child2.detail_parent()\n",
    "\n",
    "<------------------multivalue inheritance--------------------->\n",
    "\n",
    "\n",
    "class schoolFriend:\n",
    "    Sfriend=\"\"\n",
    "    def detailSfriend(self):\n",
    "        print(self.Sfriend)\n",
    "        \n",
    "class collageFriend:\n",
    "    cFriend=\"\"\n",
    "    def detailCfriend(self):\n",
    "        print(self.cFriend)\n",
    "        \n",
    "class friend(schoolFriend, collageFriend):\n",
    "    \n",
    "    def detailFriend(self):\n",
    "            print(self.cFriend)\n",
    "            print(self.Sfriend)\n",
    "       \n",
    "        \n",
    "obj=friend()\n",
    "obj.Sfriend=\"sallu\"\n",
    "obj.cFriend=\"kallu\"\n",
    "obj.detailFriend()\n",
    "\n",
    "# obj.detailCfriend()\n"
   ]
  }
 ],
 "metadata": {
  "kernelspec": {
   "display_name": "Python 3 (ipykernel)",
   "language": "python",
   "name": "python3"
  },
  "language_info": {
   "codemirror_mode": {
    "name": "ipython",
    "version": 3
   },
   "file_extension": ".py",
   "mimetype": "text/x-python",
   "name": "python",
   "nbconvert_exporter": "python",
   "pygments_lexer": "ipython3",
   "version": "3.10.8"
  }
 },
 "nbformat": 4,
 "nbformat_minor": 5
}
